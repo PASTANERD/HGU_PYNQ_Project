{
 "cells": [
  {
   "cell_type": "markdown",
   "metadata": {},
   "source": [
    "# Using PS GPIO with PYNQ"
   ]
  },
  {
   "cell_type": "code",
   "execution_count": 1,
   "metadata": {},
   "outputs": [
    {
     "data": {
      "application/javascript": [
       "\n",
       "require(['notebook/js/codecell'], function(codecell) {\n",
       "  codecell.CodeCell.options_default.highlight_modes[\n",
       "      'magic_text/x-csrc'] = {'reg':[/^%%microblaze/]};\n",
       "  Jupyter.notebook.events.one('kernel_ready.Kernel', function(){\n",
       "      Jupyter.notebook.get_cells().map(function(cell){\n",
       "          if (cell.cell_type == 'code'){ cell.auto_highlight(); } }) ;\n",
       "  });\n",
       "});\n"
      ]
     },
     "metadata": {},
     "output_type": "display_data"
    },
    {
     "name": "stderr",
     "output_type": "stream",
     "text": [
      "/usr/local/lib/python3.6/dist-packages/pynq/overlay.py:299: UserWarning: Users will not get PARAMETERS / REGISTERS information through TCL files. HWH file is recommended.\n",
      "  warnings.warn(message, UserWarning)\n"
     ]
    }
   ],
   "source": [
    "from pynq import Overlay\n",
    "ps_gpio_design = Overlay(\"./ps_gpio.bit\")"
   ]
  },
  {
   "cell_type": "code",
   "execution_count": 2,
   "metadata": {},
   "outputs": [],
   "source": [
    "from pynq import GPIO\n",
    "button0 = GPIO(GPIO.get_gpio_pin(0), 'in')"
   ]
  },
  {
   "cell_type": "code",
   "execution_count": 5,
   "metadata": {},
   "outputs": [
    {
     "data": {
      "text/plain": [
       "1"
      ]
     },
     "execution_count": 5,
     "metadata": {},
     "output_type": "execute_result"
    }
   ],
   "source": [
    "# import time\n",
    "# time.sleep(5)\n",
    "button0.read()"
   ]
  },
  {
   "cell_type": "code",
   "execution_count": 6,
   "metadata": {},
   "outputs": [],
   "source": [
    "button1 = GPIO(GPIO.get_gpio_pin(1), 'in')\n",
    "button2 = GPIO(GPIO.get_gpio_pin(2), 'in')\n",
    "button3 = GPIO(GPIO.get_gpio_pin(3), 'in')\n",
    "\n",
    "switch0 = GPIO(GPIO.get_gpio_pin(4), 'in')\n",
    "switch1 = GPIO(GPIO.get_gpio_pin(5), 'in')"
   ]
  },
  {
   "cell_type": "code",
   "execution_count": 8,
   "metadata": {},
   "outputs": [
    {
     "name": "stdout",
     "output_type": "stream",
     "text": [
      "Button0: 0\n",
      "Button1: 0\n",
      "Button2: 0\n",
      "Button3: 0\n",
      "\n",
      "Switch0: 0\n",
      "Switch1: 0\n"
     ]
    }
   ],
   "source": [
    "print(f\"Button0: {button0.read()}\")\n",
    "print(f\"Button1: {button1.read()}\")\n",
    "print(f\"Button2: {button2.read()}\")\n",
    "print(f\"Button3: {button3.read()}\")\n",
    "\n",
    "print(\"\")\n",
    "print(f\"Switch0: {switch0.read()}\")\n",
    "print(f\"Switch1: {switch1.read()}\")"
   ]
  },
  {
   "cell_type": "code",
   "execution_count": 12,
   "metadata": {},
   "outputs": [],
   "source": [
    "led0 = GPIO(GPIO.get_gpio_pin(6), 'out')"
   ]
  },
  {
   "cell_type": "code",
   "execution_count": 13,
   "metadata": {},
   "outputs": [],
   "source": [
    "led0.write(1)"
   ]
  },
  {
   "cell_type": "code",
   "execution_count": 14,
   "metadata": {},
   "outputs": [],
   "source": [
    "led1 = GPIO(GPIO.get_gpio_pin(7), 'out')\n",
    "led2 = GPIO(GPIO.get_gpio_pin(8), 'out')\n",
    "led3 = GPIO(GPIO.get_gpio_pin(9), 'out')"
   ]
  },
  {
   "cell_type": "code",
   "execution_count": null,
   "metadata": {},
   "outputs": [],
   "source": [
    "from time import sleep\n",
    "\n",
    "led1.write(1)\n",
    "sleep(1)\n",
    "led2.write(1)\n",
    "sleep(1)\n",
    "led3.write(1)"
   ]
  },
  {
   "cell_type": "code",
   "execution_count": null,
   "metadata": {},
   "outputs": [],
   "source": [
    "led0.write(0)\n",
    "led1.write(0)\n",
    "led2.write(0)\n",
    "led3.write(0)"
   ]
  },
  {
   "cell_type": "code",
   "execution_count": null,
   "metadata": {},
   "outputs": [],
   "source": [
    "while(switch0.read() is 1):\n",
    "    led0.write(button0.read())\n",
    "    led1.write(button1.read())\n",
    "    led2.write(button2.read())\n",
    "    led3.write(button3.read())    "
   ]
  },
  {
   "cell_type": "code",
   "execution_count": null,
   "metadata": {},
   "outputs": [],
   "source": []
  }
 ],
 "metadata": {
  "kernelspec": {
   "display_name": "Python 3",
   "language": "python",
   "name": "python3"
  },
  "language_info": {
   "codemirror_mode": {
    "name": "ipython",
    "version": 3
   },
   "file_extension": ".py",
   "mimetype": "text/x-python",
   "name": "python",
   "nbconvert_exporter": "python",
   "pygments_lexer": "ipython3",
   "version": "3.6.5"
  }
 },
 "nbformat": 4,
 "nbformat_minor": 2
}
